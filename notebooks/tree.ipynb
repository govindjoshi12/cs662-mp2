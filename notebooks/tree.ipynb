{
 "cells": [
  {
   "cell_type": "code",
   "execution_count": 33,
   "metadata": {},
   "outputs": [],
   "source": [
    "TREE_PREFIX = \"│   \"\n",
    "TREE_BLANK_PREFIX = \"    \"\n",
    "LOCAL_LAST_PREFIX = \"└── \"\n",
    "LOCAL_PREFIX = \"├── \"\n",
    "\n",
    "class Node:\n",
    "    def  __init__(self):\n",
    "        self.name = \"\"\n",
    "        self.folder = False\n",
    "        self.data = \"\"\n",
    "        self.children = {}\n",
    "\n",
    "    def createChild(self, name):\n",
    "        self.children[name] = Node()\n",
    "        self.children[name].name = name\n",
    "        return self.children[name]\n",
    "\n",
    "    @staticmethod\n",
    "    def toString(n: \"Node\", prefix: str):\n",
    "        res = n.name + \"\\n\"\n",
    "        \n",
    "        for i, (childName, childNode) in enumerate(n.children.items()):\n",
    "            if i < len(n.children.items()) - 1:\n",
    "                res += prefix + LOCAL_PREFIX + Node.toString(childNode, prefix + TREE_PREFIX)\n",
    "            else:\n",
    "                res += prefix + LOCAL_LAST_PREFIX + Node.toString(childNode, prefix + TREE_BLANK_PREFIX)\n",
    "        \n",
    "        return res\n",
    "        \n",
    "\n",
    "    def __repr__(self):\n",
    "        return Node.toString(self, \"\")"
   ]
  },
  {
   "cell_type": "code",
   "execution_count": 36,
   "metadata": {},
   "outputs": [
    {
     "name": "stdout",
     "output_type": "stream",
     "text": [
      "root\n",
      "└── oof\n",
      "\n",
      "root\n",
      "├── oof\n",
      "├── a\n",
      "│   └── b\n",
      "│       ├── c\n",
      "│       │   └── d\n",
      "│       └── hoi\n",
      "└── gg\n",
      "\n"
     ]
    }
   ],
   "source": [
    "n = Node()\n",
    "n.name = \"root\"\n",
    "n.createChild(\"oof\")\n",
    "\n",
    "print(n)\n",
    "\n",
    "arr = [\"a\", \"b\", \"c\", \"d\"]\n",
    "temp = n\n",
    "for letter in arr:\n",
    "    temp = temp.createChild(letter)\n",
    "\n",
    "n.createChild(\"gg\")\n",
    "n.children[\"a\"].children[\"b\"].createChild(\"hoi\")\n",
    "\n",
    "print(n)"
   ]
  },
  {
   "cell_type": "code",
   "execution_count": null,
   "metadata": {},
   "outputs": [],
   "source": []
  }
 ],
 "metadata": {
  "kernelspec": {
   "display_name": "Python 3",
   "language": "python",
   "name": "python3"
  },
  "language_info": {
   "codemirror_mode": {
    "name": "ipython",
    "version": 3
   },
   "file_extension": ".py",
   "mimetype": "text/x-python",
   "name": "python",
   "nbconvert_exporter": "python",
   "pygments_lexer": "ipython3",
   "version": "3.10.12"
  }
 },
 "nbformat": 4,
 "nbformat_minor": 2
}
